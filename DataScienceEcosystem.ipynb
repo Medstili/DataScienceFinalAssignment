{
 "cells": [
  {
   "cell_type": "markdown",
   "id": "5ecdde0c-fe5c-42d5-911e-49896c2553c4",
   "metadata": {},
   "source": [
    "# Data Science Tools and Ecosystem"
   ]
  },
  {
   "cell_type": "markdown",
   "id": "3f18e01a-0c4f-4f79-ab46-36cfd2d790ba",
   "metadata": {},
   "source": [
    "<p> In this notebook, Data Science Tools and Ecosystem are summarized.</p>"
   ]
  },
  {
   "cell_type": "markdown",
   "id": "57146828-52e3-48bb-881e-126723ef3296",
   "metadata": {},
   "source": [
    "<b>Objectives:</b>\n",
    "<ul>\n",
    "    <li>List popular languages for Data Science</li>\n",
    "    <li>List commonly libraries for Data Science</li>\n",
    "    <li>Data Science Tools</li>\n",
    "    <li>trying how to use jupyter notebok cells, how to markdown and run code </li>\n",
    "</ul>"
   ]
  },
  {
   "cell_type": "markdown",
   "id": "5dc32406-b0ab-40d7-9a0a-8d7e9ef71b96",
   "metadata": {},
   "source": [
    "<p>Some of the popular languages that Data Scientists use are:</p>\n",
    "\n",
    "1. python\n",
    "2. R\n",
    "3. julia\n",
    "4. sql"
   ]
  },
  {
   "cell_type": "markdown",
   "id": "867b8b52-e411-44e6-bff8-9299a419b7e7",
   "metadata": {},
   "source": [
    "<p>Some of the commonly used libraries used by Data Scientists include:</p>\n",
    "\n",
    "1. pandas\n",
    "2. numpy\n",
    "3. scikit-learn\n",
    "4. matplotlib\n",
    "5. seaborn\n",
    "6. tenserflow\n"
   ]
  },
  {
   "cell_type": "markdown",
   "id": "e2eefe6b-657a-41a4-8447-53845da86ba8",
   "metadata": {},
   "source": [
    "### Data Science Tools\n",
    "\n",
    "|Data Science Tools|\n",
    "|------------------|\n",
    "|RStudio|\n",
    "|Apache Spark|\n",
    "|Apache Hadoop|"
   ]
  },
  {
   "cell_type": "markdown",
   "id": "92e3e77d-104e-4ae5-a963-39de71927851",
   "metadata": {},
   "source": [
    "### Below are a few examples of evaluating arithmetic expressions in Python"
   ]
  },
  {
   "cell_type": "code",
   "execution_count": 13,
   "id": "37c2b537-9c7c-4ee6-a6d1-8297c1d03beb",
   "metadata": {},
   "outputs": [
    {
     "data": {
      "text/plain": [
       "17"
      ]
     },
     "execution_count": 13,
     "metadata": {},
     "output_type": "execute_result"
    }
   ],
   "source": [
    " #  This a simple arithmetic expression to mutiply then add integers\n",
    "\n",
    "(3*4)+5"
   ]
  },
  {
   "cell_type": "code",
   "execution_count": 19,
   "id": "ae7db7c7-5191-41ef-af99-553d3165021c",
   "metadata": {},
   "outputs": [
    {
     "data": {
      "text/plain": [
       "3"
      ]
     },
     "execution_count": 19,
     "metadata": {},
     "output_type": "execute_result"
    }
   ],
   "source": [
    "# This will convert 200 minutes to hours by diving by 60\n",
    "(200//60)"
   ]
  },
  {
   "cell_type": "markdown",
   "id": "fd8de046-2b59-4f0e-9396-bc4ef8c2ad82",
   "metadata": {},
   "source": [
    "## Author \n",
    "   Mohamed Stili"
   ]
  },
  {
   "cell_type": "code",
   "execution_count": null,
   "id": "1f050431-33a4-410e-a9d5-207e6b6955d3",
   "metadata": {},
   "outputs": [],
   "source": []
  }
 ],
 "metadata": {
  "kernelspec": {
   "display_name": "Python [conda env:base] *",
   "language": "python",
   "name": "conda-base-py"
  },
  "language_info": {
   "codemirror_mode": {
    "name": "ipython",
    "version": 3
   },
   "file_extension": ".py",
   "mimetype": "text/x-python",
   "name": "python",
   "nbconvert_exporter": "python",
   "pygments_lexer": "ipython3",
   "version": "3.12.7"
  }
 },
 "nbformat": 4,
 "nbformat_minor": 5
}
